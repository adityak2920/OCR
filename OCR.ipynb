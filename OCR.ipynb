{
 "cells": [
  {
   "cell_type": "code",
   "execution_count": null,
   "metadata": {},
   "outputs": [],
   "source": [
    "import cv2\n",
    "import sys\n",
    "import pytesseract\n",
    "import urllib.request\n",
    "import numpy as np\n",
    "\n",
    "# IP address from ipwebcam app\n",
    "url = \"http://192.168.43.1:8080/shot.jpg\"\n",
    "\n",
    "while True:\n",
    "    # Extracting from url and converting it to image format so that opencv can read\n",
    "    img_response = urllib.request.urlopen(url)\n",
    "    img_numpy = np.array(bytearray(img_response.read()), dtype=np.uint8)\n",
    "    frame = cv2.imdecode(img_numpy, -1)\n",
    "    config = ('-l eng --oem 1 --psm 3')\n",
    "\n",
    "    # Read image for OCR\n",
    "    gray = cv2.cvtColor(frame, cv2.COLOR_BGR2GRAY)\n",
    "    # Run tesseract OCR on image\n",
    "    text = pytesseract.image_to_string(gray, config=config)\n",
    "\n",
    "    # Print recognized text\n",
    "    print(text)\n",
    "    \n",
    "    # Displaying the video\n",
    "    cv2.imshow('IPWebcam', frame)\n",
    "    if cv2.waitKey(1) & 0xFF == ord('q'):\n",
    "        break"
   ]
  }
 ],
 "metadata": {
  "kernelspec": {
   "display_name": "Python 3",
   "language": "python",
   "name": "python3"
  },
  "language_info": {
   "codemirror_mode": {
    "name": "ipython",
    "version": 3
   },
   "file_extension": ".py",
   "mimetype": "text/x-python",
   "name": "python",
   "nbconvert_exporter": "python",
   "pygments_lexer": "ipython3",
   "version": "3.7.2"
  }
 },
 "nbformat": 4,
 "nbformat_minor": 2
}
